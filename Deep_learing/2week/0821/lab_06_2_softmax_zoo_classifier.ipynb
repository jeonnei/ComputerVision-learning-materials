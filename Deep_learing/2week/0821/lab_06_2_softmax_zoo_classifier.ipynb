{
  "nbformat": 4,
  "nbformat_minor": 0,
  "metadata": {
    "colab": {
      "private_outputs": true,
      "provenance": []
    },
    "kernelspec": {
      "name": "python3",
      "display_name": "Python 3"
    },
    "language_info": {
      "name": "python"
    }
  },
  "cells": [
    {
      "cell_type": "markdown",
      "source": [
        "\n",
        "# data-04-zoo.csv를 통해 데이터 불러와서 학습"
      ],
      "metadata": {
        "id": "UsA9uWcAl8J1"
      }
    },
    {
      "cell_type": "code",
      "execution_count": null,
      "metadata": {
        "id": "DYAqa_fIl3KY"
      },
      "outputs": [],
      "source": [
        "# Lab 6 Softmax Classifier\n",
        "import torch\n",
        "from torch.autograd import Variable\n",
        "import numpy as np\n",
        "\n",
        "torch.manual_seed(777)  # for reproducibility\n",
        "\n",
        "# Predicting animal type based on various features\n",
        "xy = np.loadtxt('data-04-zoo.csv', delimiter=',', dtype=np.float32)\n",
        "x_data = xy[:, 0:-1]\n",
        "y_data = xy[:, [-1]]\n",
        "\n",
        "print(x_data.shape, y_data.shape)\n",
        "\n",
        "nb_classes = 7  # 0 ~ 6\n",
        "\n",
        "X = Variable(torch.from_numpy(x_data))\n",
        "Y = Variable(torch.from_numpy(y_data))\n",
        "\n",
        "# one hot encoding\n",
        "Y_one_hot = torch.zeros(Y.size()[0], nb_classes)\n",
        "Y_one_hot.scatter_(1, Y.long().data, 1)\n",
        "Y_one_hot = Variable(Y_one_hot)\n",
        "print(\"one_hot\", Y_one_hot.data)\n",
        "\n",
        "softmax = torch.nn.Softmax()\n",
        "model = torch.nn.Linear(16, nb_classes, bias=True)\n",
        "\n",
        "# Cross entropy cost/loss\n",
        "criterion = torch.nn.CrossEntropyLoss()    # Softmax is internally computed.\n",
        "optimizer = torch.optim.SGD(model.parameters(), lr=0.1)\n",
        "\n",
        "for step in range(2001):\n",
        "    optimizer.zero_grad()\n",
        "    hypothesis = model(X)\n",
        "    # Label has to be 1D LongTensor\n",
        "    cost = criterion(hypothesis, Y.long().view(-1))\n",
        "    cost.backward()\n",
        "    optimizer.step()\n",
        "\n",
        "    prediction = torch.max(softmax(hypothesis), 1)[1].float()\n",
        "\n",
        "    correct_prediction = (prediction.data == Y.data)\n",
        "    accuracy = correct_prediction.float().mean()\n",
        "\n",
        "    if step % 100 == 0:\n",
        "        print(f\"Step: {step:5}\\tLoss: {cost.item():.3f}\\tAcc: {accuracy:.2%}\" )\n",
        "\n",
        "\n",
        "# Let's see if we can predict\n",
        "pred = torch.max(softmax(hypothesis), 1)[1].float()\n",
        "\n",
        "for p, y in zip(pred, Y):\n",
        "    print(\"[{}] Prediction: {} True Y: {}\".format(bool(p.item() == y.item()), int(p.item()), int(y.item())))\n"
      ]
    },
    {
      "cell_type": "code",
      "source": [],
      "metadata": {
        "id": "fZlRRb-wnja3"
      },
      "execution_count": null,
      "outputs": []
    }
  ]
}